{
  "nbformat": 4,
  "nbformat_minor": 0,
  "metadata": {
    "colab": {
      "provenance": [],
      "toc_visible": true
    },
    "kernelspec": {
      "name": "python3",
      "display_name": "Python 3"
    }
  },
  "cells": [
    {
      "cell_type": "markdown",
      "source": [
        "<h1><center>\n",
        "\n",
        "<img src=\"https://i.imgur.com/LSeMSbh.jpg\" alt=\"logo\" width=\"700\" height=\"300\">\n",
        "<h1><b>SESSION 5 - LINEAR REGRESSION</b></h1>\n",
        "\n",
        "</center></h1>"
      ],
      "metadata": {
        "id": "ERhXJ1BqQNSP"
      }
    },
    {
      "cell_type": "markdown",
      "source": [
        "<h1><b><center>ƯỚC LƯỢNG DOANH THU CỦA MỘT CÔNG TY BÁN KEM DỰA VÀO NHIỆT ĐỘ TRONG THÁNG</center></b></h1>"
      ],
      "metadata": {
        "id": "woKNsf_0RbOh"
      }
    },
    {
      "cell_type": "markdown",
      "source": [
        "#**Create Data**"
      ],
      "metadata": {
        "id": "EvbFp0xgSog-"
      }
    },
    {
      "cell_type": "markdown",
      "source": [
        "Tạo short-cut đến [**dataset**](https://drive.google.com/file/d/1wZETgqcnl0dQJ8FV3hI_Y64LK1KNfGyE/view?usp=share_link) từ Google Drive rồi chạy các cell code dưới đây để tạo data"
      ],
      "metadata": {
        "id": "xx62F6H2RbO6"
      }
    },
    {
      "cell_type": "code",
      "source": [
        "from google.colab import drive\n",
        "drive.mount('/content/drive')"
      ],
      "metadata": {
        "id": "uoyMWrDcVqIX",
        "colab": {
          "base_uri": "https://localhost:8080/"
        },
        "outputId": "bd586a73-35e4-43a7-f3ec-edcd55368f6f"
      },
      "execution_count": 5,
      "outputs": [
        {
          "output_type": "stream",
          "name": "stdout",
          "text": [
            "Mounted at /content/drive\n"
          ]
        }
      ]
    },
    {
      "cell_type": "code",
      "metadata": {
        "id": "ecSiFRtWSog_",
        "colab": {
          "base_uri": "https://localhost:8080/",
          "height": 206
        },
        "outputId": "e77d250b-8e05-4509-df52-610ebdb88f4d"
      },
      "source": [
        "import pandas as pd\n",
        "import numpy as np\n",
        "\n",
        "df = pd.read_csv('/content/drive/MyDrive/IceCreamData.csv')\n",
        "df.head()"
      ],
      "execution_count": 6,
      "outputs": [
        {
          "output_type": "execute_result",
          "data": {
            "text/plain": [
              "   Temperature     Revenue\n",
              "0    24.566884  534.799028\n",
              "1    26.005191  625.190122\n",
              "2    27.790554  660.632289\n",
              "3    20.595335  487.706960\n",
              "4    11.503498  316.240194"
            ],
            "text/html": [
              "\n",
              "  <div id=\"df-fa41d76e-b270-44aa-9ff6-899498079429\">\n",
              "    <div class=\"colab-df-container\">\n",
              "      <div>\n",
              "<style scoped>\n",
              "    .dataframe tbody tr th:only-of-type {\n",
              "        vertical-align: middle;\n",
              "    }\n",
              "\n",
              "    .dataframe tbody tr th {\n",
              "        vertical-align: top;\n",
              "    }\n",
              "\n",
              "    .dataframe thead th {\n",
              "        text-align: right;\n",
              "    }\n",
              "</style>\n",
              "<table border=\"1\" class=\"dataframe\">\n",
              "  <thead>\n",
              "    <tr style=\"text-align: right;\">\n",
              "      <th></th>\n",
              "      <th>Temperature</th>\n",
              "      <th>Revenue</th>\n",
              "    </tr>\n",
              "  </thead>\n",
              "  <tbody>\n",
              "    <tr>\n",
              "      <th>0</th>\n",
              "      <td>24.566884</td>\n",
              "      <td>534.799028</td>\n",
              "    </tr>\n",
              "    <tr>\n",
              "      <th>1</th>\n",
              "      <td>26.005191</td>\n",
              "      <td>625.190122</td>\n",
              "    </tr>\n",
              "    <tr>\n",
              "      <th>2</th>\n",
              "      <td>27.790554</td>\n",
              "      <td>660.632289</td>\n",
              "    </tr>\n",
              "    <tr>\n",
              "      <th>3</th>\n",
              "      <td>20.595335</td>\n",
              "      <td>487.706960</td>\n",
              "    </tr>\n",
              "    <tr>\n",
              "      <th>4</th>\n",
              "      <td>11.503498</td>\n",
              "      <td>316.240194</td>\n",
              "    </tr>\n",
              "  </tbody>\n",
              "</table>\n",
              "</div>\n",
              "      <button class=\"colab-df-convert\" onclick=\"convertToInteractive('df-fa41d76e-b270-44aa-9ff6-899498079429')\"\n",
              "              title=\"Convert this dataframe to an interactive table.\"\n",
              "              style=\"display:none;\">\n",
              "        \n",
              "  <svg xmlns=\"http://www.w3.org/2000/svg\" height=\"24px\"viewBox=\"0 0 24 24\"\n",
              "       width=\"24px\">\n",
              "    <path d=\"M0 0h24v24H0V0z\" fill=\"none\"/>\n",
              "    <path d=\"M18.56 5.44l.94 2.06.94-2.06 2.06-.94-2.06-.94-.94-2.06-.94 2.06-2.06.94zm-11 1L8.5 8.5l.94-2.06 2.06-.94-2.06-.94L8.5 2.5l-.94 2.06-2.06.94zm10 10l.94 2.06.94-2.06 2.06-.94-2.06-.94-.94-2.06-.94 2.06-2.06.94z\"/><path d=\"M17.41 7.96l-1.37-1.37c-.4-.4-.92-.59-1.43-.59-.52 0-1.04.2-1.43.59L10.3 9.45l-7.72 7.72c-.78.78-.78 2.05 0 2.83L4 21.41c.39.39.9.59 1.41.59.51 0 1.02-.2 1.41-.59l7.78-7.78 2.81-2.81c.8-.78.8-2.07 0-2.86zM5.41 20L4 18.59l7.72-7.72 1.47 1.35L5.41 20z\"/>\n",
              "  </svg>\n",
              "      </button>\n",
              "      \n",
              "  <style>\n",
              "    .colab-df-container {\n",
              "      display:flex;\n",
              "      flex-wrap:wrap;\n",
              "      gap: 12px;\n",
              "    }\n",
              "\n",
              "    .colab-df-convert {\n",
              "      background-color: #E8F0FE;\n",
              "      border: none;\n",
              "      border-radius: 50%;\n",
              "      cursor: pointer;\n",
              "      display: none;\n",
              "      fill: #1967D2;\n",
              "      height: 32px;\n",
              "      padding: 0 0 0 0;\n",
              "      width: 32px;\n",
              "    }\n",
              "\n",
              "    .colab-df-convert:hover {\n",
              "      background-color: #E2EBFA;\n",
              "      box-shadow: 0px 1px 2px rgba(60, 64, 67, 0.3), 0px 1px 3px 1px rgba(60, 64, 67, 0.15);\n",
              "      fill: #174EA6;\n",
              "    }\n",
              "\n",
              "    [theme=dark] .colab-df-convert {\n",
              "      background-color: #3B4455;\n",
              "      fill: #D2E3FC;\n",
              "    }\n",
              "\n",
              "    [theme=dark] .colab-df-convert:hover {\n",
              "      background-color: #434B5C;\n",
              "      box-shadow: 0px 1px 3px 1px rgba(0, 0, 0, 0.15);\n",
              "      filter: drop-shadow(0px 1px 2px rgba(0, 0, 0, 0.3));\n",
              "      fill: #FFFFFF;\n",
              "    }\n",
              "  </style>\n",
              "\n",
              "      <script>\n",
              "        const buttonEl =\n",
              "          document.querySelector('#df-fa41d76e-b270-44aa-9ff6-899498079429 button.colab-df-convert');\n",
              "        buttonEl.style.display =\n",
              "          google.colab.kernel.accessAllowed ? 'block' : 'none';\n",
              "\n",
              "        async function convertToInteractive(key) {\n",
              "          const element = document.querySelector('#df-fa41d76e-b270-44aa-9ff6-899498079429');\n",
              "          const dataTable =\n",
              "            await google.colab.kernel.invokeFunction('convertToInteractive',\n",
              "                                                     [key], {});\n",
              "          if (!dataTable) return;\n",
              "\n",
              "          const docLinkHtml = 'Like what you see? Visit the ' +\n",
              "            '<a target=\"_blank\" href=https://colab.research.google.com/notebooks/data_table.ipynb>data table notebook</a>'\n",
              "            + ' to learn more about interactive tables.';\n",
              "          element.innerHTML = '';\n",
              "          dataTable['output_type'] = 'display_data';\n",
              "          await google.colab.output.renderOutput(dataTable, element);\n",
              "          const docLink = document.createElement('div');\n",
              "          docLink.innerHTML = docLinkHtml;\n",
              "          element.appendChild(docLink);\n",
              "        }\n",
              "      </script>\n",
              "    </div>\n",
              "  </div>\n",
              "  "
            ]
          },
          "metadata": {},
          "execution_count": 6
        }
      ]
    },
    {
      "cell_type": "code",
      "source": [
        "x = df['Temperature'].values\n",
        "y = df['Revenue'].values\n",
        "x.shape, y.shape"
      ],
      "metadata": {
        "id": "rPC0bx44DSxP",
        "colab": {
          "base_uri": "https://localhost:8080/"
        },
        "outputId": "fe92638a-0535-4c45-9508-2cc86e9e0816"
      },
      "execution_count": 7,
      "outputs": [
        {
          "output_type": "execute_result",
          "data": {
            "text/plain": [
              "((500,), (500,))"
            ]
          },
          "metadata": {},
          "execution_count": 7
        }
      ]
    },
    {
      "cell_type": "markdown",
      "source": [
        "#**TODO: Visualize Data**"
      ],
      "metadata": {
        "id": "TCq9Ys4nSnKH"
      }
    },
    {
      "cell_type": "markdown",
      "source": [
        "Scatter các điểm (x,y)"
      ],
      "metadata": {
        "id": "m8E09mi3eNeb"
      }
    },
    {
      "cell_type": "code",
      "metadata": {
        "id": "0b13qpD7SnKI",
        "colab": {
          "base_uri": "https://localhost:8080/",
          "height": 265
        },
        "outputId": "195aeddf-2275-4848-a2ad-5df13229714a"
      },
      "source": [
        "# YOUR CODE HERE\n",
        "import matplotlib.pyplot as plt\n",
        "plt.scatter(x,y)\n",
        "plt.show()"
      ],
      "execution_count": 8,
      "outputs": [
        {
          "output_type": "display_data",
          "data": {
            "text/plain": [
              "<Figure size 432x288 with 1 Axes>"
            ],
            "image/png": "[encoded data removed]"
          },
          "metadata": {
            "needs_background": "light"
          }
        }
      ]
    },
    {
      "cell_type": "markdown",
      "source": [
        "#**TODO: Split Data**"
      ],
      "metadata": {
        "id": "IVLn4FDWgVpO"
      }
    },
    {
      "cell_type": "markdown",
      "source": [
        "Tách tập dữ liệu (x,y) thành 2 tập train, test bằng thư viện **scikit-learn** ([document](https://scikit-learn.org/stable/modules/generated/sklearn.model_selection.train_test_split.html)) sao cho tập test có 50 sample. In ra shape của các tập dữ liệu để biết kết quả"
      ],
      "metadata": {
        "id": "tGflBjzGmNru"
      }
    },
    {
      "cell_type": "code",
      "source": [
        "# YOUR CODE HERE\n",
        "import numpy as np\n",
        "from sklearn.model_selection import train_test_split\n",
        "\n",
        "x_train, x_test, y_train, y_test = train_test_split(x,y, test_size=50)\n",
        "x_train.shape, x_test.shape, y_train.shape, y_test.shape"
      ],
      "metadata": {
        "id": "A8APiRVlgYeT",
        "colab": {
          "base_uri": "https://localhost:8080/"
        },
        "outputId": "978ca098-868e-41be-b6a2-2621a0f0fac5"
      },
      "execution_count": 9,
      "outputs": [
        {
          "output_type": "execute_result",
          "data": {
            "text/plain": [
              "((450,), (50,), (450,), (50,))"
            ]
          },
          "metadata": {},
          "execution_count": 9
        }
      ]
    },
    {
      "cell_type": "markdown",
      "source": [
        "Scatter lại 2 tập train, test (2 tập 2 màu khác nhau)"
      ],
      "metadata": {
        "id": "KllLBRLe2r9r"
      }
    },
    {
      "cell_type": "code",
      "source": [
        "# YOUR CODE HERE\n",
        "import matplotlib.pyplot as plt\n",
        "plt.scatter(x_train, y_train)\n",
        "plt.scatter(x_test, y_test)\n",
        "plt.legend(['Class 0', 'Class 1'])\n",
        "plt.title('Dataset')\n",
        "plt.xlabel('x1')\n",
        "plt.ylabel('x2')\n",
        "plt.show"
      ],
      "metadata": {
        "id": "m1mm3Dejidda",
        "colab": {
          "base_uri": "https://localhost:8080/",
          "height": 312
        },
        "outputId": "b3ec8d08-80fa-430b-ff1e-56b35bf81b06"
      },
      "execution_count": 10,
      "outputs": [
        {
          "output_type": "execute_result",
          "data": {
            "text/plain": [
              "<function matplotlib.pyplot.show(close=None, block=None)>"
            ]
          },
          "metadata": {},
          "execution_count": 10
        },
        {
          "output_type": "display_data",
          "data": {
            "text/plain": [
              "<Figure size 432x288 with 1 Axes>"
            ],
            "image/png": "[encoded data removed]"
          },
          "metadata": {
            "needs_background": "light"
          }
        }
      ]
    },
    {
      "cell_type": "markdown",
      "source": [
        "#**TODO: Create, Train, Evaluate**"
      ],
      "metadata": {
        "id": "h_GX6OBrPt6A"
      }
    },
    {
      "cell_type": "markdown",
      "source": [
        "Tạo và fit model trên tập train (chú ý shape)"
      ],
      "metadata": {
        "id": "rVMZ6_nCmrDF"
      }
    },
    {
      "cell_type": "code",
      "metadata": {
        "id": "CKfFSzXARckC",
        "colab": {
          "base_uri": "https://localhost:8080/",
          "height": 74
        },
        "outputId": "9fc86cbd-95d8-40eb-8f17-653ddc2bef47"
      },
      "source": [
        "# YOUR CODE HERE\n",
        "from sklearn.neighbors import KNeighborsClassifier\n",
        "from sklearn.linear_model import LinearRegression\n",
        "\n",
        "x_train = x_train.reshape(-1,1)\n",
        "model = LinearRegression()\n",
        "model.fit(x_train, y_train)"
      ],
      "execution_count": 11,
      "outputs": [
        {
          "output_type": "execute_result",
          "data": {
            "text/plain": [
              "LinearRegression()"
            ],
            "text/html": [
              "<style>#sk-container-id-1 {color: black;background-color: white;}#sk-container-id-1 pre{padding: 0;}#sk-container-id-1 div.sk-toggleable {background-color: white;}#sk-container-id-1 label.sk-toggleable__label {cursor: pointer;display: block;width: 100%;margin-bottom: 0;padding: 0.3em;box-sizing: border-box;text-align: center;}#sk-container-id-1 label.sk-toggleable__label-arrow:before {content: \"▸\";float: left;margin-right: 0.25em;color: #696969;}#sk-container-id-1 label.sk-toggleable__label-arrow:hover:before {color: black;}#sk-container-id-1 div.sk-estimator:hover label.sk-toggleable__label-arrow:before {color: black;}#sk-container-id-1 div.sk-toggleable__content {max-height: 0;max-width: 0;overflow: hidden;text-align: left;background-color: #f0f8ff;}#sk-container-id-1 div.sk-toggleable__content pre {margin: 0.2em;color: black;border-radius: 0.25em;background-color: #f0f8ff;}#sk-container-id-1 input.sk-toggleable__control:checked~div.sk-toggleable__content {max-height: 200px;max-width: 100%;overflow: auto;}#sk-container-id-1 input.sk-toggleable__control:checked~label.sk-toggleable__label-arrow:before {content: \"▾\";}#sk-container-id-1 div.sk-estimator input.sk-toggleable__control:checked~label.sk-toggleable__label {background-color: #d4ebff;}#sk-container-id-1 div.sk-label input.sk-toggleable__control:checked~label.sk-toggleable__label {background-color: #d4ebff;}#sk-container-id-1 input.sk-hidden--visually {border: 0;clip: rect(1px 1px 1px 1px);clip: rect(1px, 1px, 1px, 1px);height: 1px;margin: -1px;overflow: hidden;padding: 0;position: absolute;width: 1px;}#sk-container-id-1 div.sk-estimator {font-family: monospace;background-color: #f0f8ff;border: 1px dotted black;border-radius: 0.25em;box-sizing: border-box;margin-bottom: 0.5em;}#sk-container-id-1 div.sk-estimator:hover {background-color: #d4ebff;}#sk-container-id-1 div.sk-parallel-item::after {content: \"\";width: 100%;border-bottom: 1px solid gray;flex-grow: 1;}#sk-container-id-1 div.sk-label:hover label.sk-toggleable__label {background-color: #d4ebff;}#sk-container-id-1 div.sk-serial::before {content: \"\";position: absolute;border-left: 1px solid gray;box-sizing: border-box;top: 0;bottom: 0;left: 50%;z-index: 0;}#sk-container-id-1 div.sk-serial {display: flex;flex-direction: column;align-items: center;background-color: white;padding-right: 0.2em;padding-left: 0.2em;position: relative;}#sk-container-id-1 div.sk-item {position: relative;z-index: 1;}#sk-container-id-1 div.sk-parallel {display: flex;align-items: stretch;justify-content: center;background-color: white;position: relative;}#sk-container-id-1 div.sk-item::before, #sk-container-id-1 div.sk-parallel-item::before {content: \"\";position: absolute;border-left: 1px solid gray;box-sizing: border-box;top: 0;bottom: 0;left: 50%;z-index: -1;}#sk-container-id-1 div.sk-parallel-item {display: flex;flex-direction: column;z-index: 1;position: relative;background-color: white;}#sk-container-id-1 div.sk-parallel-item:first-child::after {align-self: flex-end;width: 50%;}#sk-container-id-1 div.sk-parallel-item:last-child::after {align-self: flex-start;width: 50%;}#sk-container-id-1 div.sk-parallel-item:only-child::after {width: 0;}#sk-container-id-1 div.sk-dashed-wrapped {border: 1px dashed gray;margin: 0 0.4em 0.5em 0.4em;box-sizing: border-box;padding-bottom: 0.4em;background-color: white;}#sk-container-id-1 div.sk-label label {font-family: monospace;font-weight: bold;display: inline-block;line-height: 1.2em;}#sk-container-id-1 div.sk-label-container {text-align: center;}#sk-container-id-1 div.sk-container {/* jupyter's `normalize.less` sets `[hidden] { display: none; }` but bootstrap.min.css set `[hidden] { display: none !important; }` so we also need the `!important` here to be able to override the default hidden behavior on the sphinx rendered scikit-learn.org. See: https://github.com/scikit-learn/scikit-learn/issues/21755 */display: inline-block !important;position: relative;}#sk-container-id-1 div.sk-text-repr-fallback {display: none;}</style><div id=\"sk-container-id-1\" class=\"sk-top-container\"><div class=\"sk-text-repr-fallback\"><pre>LinearRegression()</pre><b>In a Jupyter environment, please rerun this cell to show the HTML representation or trust the notebook. <br />On GitHub, the HTML representation is unable to render, please try loading this page with nbviewer.org.</b></div><div class=\"sk-container\" hidden><div class=\"sk-item\"><div class=\"sk-estimator sk-toggleable\"><input class=\"sk-toggleable__control sk-hidden--visually\" id=\"sk-estimator-id-1\" type=\"checkbox\" checked><label for=\"sk-estimator-id-1\" class=\"sk-toggleable__label sk-toggleable__label-arrow\">LinearRegression</label><div class=\"sk-toggleable__content\"><pre>LinearRegression()</pre></div></div></div></div></div>"
            ]
          },
          "metadata": {},
          "execution_count": 11
        }
      ]
    },
    {
      "cell_type": "markdown",
      "source": [
        "**Weights**"
      ],
      "metadata": {
        "id": "WYs83xYgSjon"
      }
    },
    {
      "cell_type": "code",
      "metadata": {
        "id": "-Y29v3gTSjoo",
        "colab": {
          "base_uri": "https://localhost:8080/"
        },
        "outputId": "8c75defb-ddc2-4aa4-dcea-baa4617a1c86"
      },
      "source": [
        "# YOUR CODE HERE\n",
        "print(\"weights\", model.coef_)\n",
        "print(\"bias\", model.intercept_)\n",
        "\n",
        "print(20 * model.coef_ + model.intercept_)"
      ],
      "execution_count": 12,
      "outputs": [
        {
          "output_type": "stream",
          "name": "stdout",
          "text": [
            "weights [21.45333122]\n",
            "bias 44.81660919132747\n",
            "[473.88323354]\n"
          ]
        }
      ]
    },
    {
      "cell_type": "markdown",
      "source": [
        "**Evaluate:** đánh giá model trên tập test"
      ],
      "metadata": {
        "id": "z-4mUqE4Sjoo"
      }
    },
    {
      "cell_type": "code",
      "source": [
        "# YOUR CODE HERE\n",
        "from sklearn.metrics import mean_absolute_error as mae\n",
        "from sklearn.metrics import mean_squared_error as mse\n",
        "\n",
        "x_test = x_test.reshape(-1,1)\n",
        "y_test = y_test.reshape(-1,1)\n",
        "print(model.score(x_test, y_test))"
      ],
      "metadata": {
        "id": "ED-BqBs6knO3",
        "colab": {
          "base_uri": "https://localhost:8080/"
        },
        "outputId": "d4450e49-6365-457c-a437-1b996dd7e328"
      },
      "execution_count": 13,
      "outputs": [
        {
          "output_type": "stream",
          "name": "stdout",
          "text": [
            "0.9733110118255359\n"
          ]
        }
      ]
    },
    {
      "cell_type": "markdown",
      "source": [
        "#**TODO: Regression Line**"
      ],
      "metadata": {
        "id": "MsxZjg-CRcj_"
      }
    },
    {
      "cell_type": "markdown",
      "source": [
        "Scatter lại tập (x,y) và plot Regression Line"
      ],
      "metadata": {
        "id": "TRHMnbFgTNnz"
      }
    },
    {
      "cell_type": "code",
      "metadata": {
        "id": "s_giJzuH6J4r",
        "colab": {
          "base_uri": "https://localhost:8080/",
          "height": 265
        },
        "outputId": "ecd9f29d-75d5-458c-d23d-7e275f408afa"
      },
      "source": [
        "# YOUR CODE HERE\n",
        "import matplotlib.pyplot as plt\n",
        "\n",
        "x_line = np.array([-10, 50]).reshape(-1,1)\n",
        "y_line = model.predict(x_line)\n",
        "\n",
        "plt.scatter(x, y)\n",
        "plt.plot(x_line, y_line, c='y')\n",
        "plt.show()"
      ],
      "execution_count": 14,
      "outputs": [
        {
          "output_type": "display_data",
          "data": {
            "text/plain": [
              "<Figure size 432x288 with 1 Axes>"
            ],
            "image/png": "[encoded data removed]"
          },
          "metadata": {
            "needs_background": "light"
          }
        }
      ]
    },
    {
      "cell_type": "markdown",
      "source": [
        "#**TODO: Save Model**"
      ],
      "metadata": {
        "id": "w-aCtEj7qj8k"
      }
    },
    {
      "cell_type": "code",
      "source": [
        "# YOUR CODE HERE\n",
        "import pickle\n",
        "\n",
        "filename = 'model.pickle'\n",
        "\n",
        "pickle.dump(model, open(filename, \"wb\"))\n",
        "model = pickle.load(open(filename, \"rb\"))"
      ],
      "metadata": {
        "id": "QvQ2FguQql0h"
      },
      "execution_count": 15,
      "outputs": []
    },
    {
      "cell_type": "markdown",
      "source": [
        "#**TODO: Deploy Streamlit App**"
      ],
      "metadata": {
        "id": "PcJfm-nmRByM"
      }
    },
    {
      "cell_type": "markdown",
      "source": [
        "Tạo ứng dụng Streamlit (dùng Streamlit Cloud) cho phép người dùng nhập vào nhiệt độ, xuất ra doanh thu dự báo trong tháng\n",
        "\n",
        "<center>\n",
        "<img src=\"https://i.imgur.com/StAakCD.png\"height=\"300\">\n",
        "<h1>\n",
        "</center>\n",
        "\n",
        "![]()\n",
        "\n",
        "**Lưu ý:**\n",
        "- Có thể tạo repository mới (đặt tên tuỳ ý) hoặc dùng lại repository cũ (`my-first-streamlit-app`)\n",
        "- Download file model đã lưu ở trên rồi upload lên repository, sau đó load lại model (bằng thư viện pickle) để dùng cho predict\n",
        "- requirements.txt\n",
        "```\n",
        "pickles\n",
        "scikit-learn\n",
        "```\n",
        "\n",
        "\n",
        "---\n",
        "\n",
        "\n",
        "\n",
        "**YOUR REPOSITORY LINK:**\n",
        "\n",
        "**YOUR APP PUBLIC LINK:**"
      ],
      "metadata": {
        "id": "JNE352zkm-lc"
      }
    },
    {
      "cell_type": "markdown",
      "source": [
        "#**Bonus**\n",
        "Làm lại bài toán trên mà không dùng thư viện `scikit-learn` (chỉ dùng `numpy`)"
      ],
      "metadata": {
        "id": "7TymmudrD472"
      }
    },
    {
      "cell_type": "markdown",
      "source": [
        "**Tính ra bộ trọng số bằng công thức đạo hàm**\n",
        "\n",
        "Nhắc lại công thức tính bộ trọng số tối ưu của bài toán Linear Regression:\n",
        "\n",
        "$$\\bar{𝐰} = (\\bar{𝐗}^T\\bar{𝐗})^{-1}\\bar{𝐗}^T𝐲$$\n",
        "\n",
        "**Lưu ý:**\n",
        "- Dùng hàm `np.linalg.pinv` để tính ma trận nghịch đảo (chỉ có ma trận vuông mới có ma trận nghịch đảo)\n",
        "- Có thể dùng `list` và vòng lặp để tạo ma trận $\\bar{𝐗}$ (nếu không dùng được các hàm `numpy`)\n",
        "- Để nhân ma trận có thể dùng cú pháp ngắn gọn như sau\n",
        "```python\n",
        "c = a @ b # thay vì c = np.dot(a,b)\n",
        "```"
      ],
      "metadata": {
        "id": "yDNx8juoEk5B"
      }
    },
    {
      "cell_type": "code",
      "source": [
        "# YOUR CODE HERE\n"
      ],
      "metadata": {
        "id": "hDH41wShElMG"
      },
      "execution_count": null,
      "outputs": []
    },
    {
      "cell_type": "markdown",
      "source": [
        "**Tính MAE, MSE** (bằng hàm numpy)"
      ],
      "metadata": {
        "id": "H1TGDpvtFSQN"
      }
    },
    {
      "cell_type": "code",
      "source": [
        "# YOUR CODE HERE\n"
      ],
      "metadata": {
        "id": "K_hFHhhbFVN-"
      },
      "execution_count": null,
      "outputs": []
    },
    {
      "cell_type": "markdown",
      "source": [
        "**Tự viết class LinearRegression** tương tự như class của thư viện `scikit-klearn` (gồm 2 hàm `fit` và `predict`), sau đó gọi tạo đối tượng của class rồi gọi hàm để kiểm tra & so sánh kết quả"
      ],
      "metadata": {
        "id": "mD4eyiBmfNwH"
      }
    },
    {
      "cell_type": "code",
      "source": [
        "import numpy as np\n",
        "\n",
        "# YOUR CODE HERE\n",
        "class LinearRegression:\n",
        "  def fit(self, x, y):\n",
        "    pass\n",
        "\n",
        "  def predict(self, x):\n",
        "    pass\n",
        "\n"
      ],
      "metadata": {
        "id": "C0OckDk5fdml"
      },
      "execution_count": null,
      "outputs": []
    }
  ]
}